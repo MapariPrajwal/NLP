{
  "nbformat": 4,
  "nbformat_minor": 0,
  "metadata": {
    "colab": {
      "provenance": [],
      "authorship_tag": "ABX9TyNm+aXynASy+yfqn8kI9uP7",
      "include_colab_link": true
    },
    "kernelspec": {
      "name": "python3",
      "display_name": "Python 3"
    },
    "language_info": {
      "name": "python"
    }
  },
  "cells": [
    {
      "cell_type": "markdown",
      "metadata": {
        "id": "view-in-github",
        "colab_type": "text"
      },
      "source": [
        "<a href=\"https://colab.research.google.com/github/MapariPrajwal/NLP/blob/main/PoS_tagging.ipynb\" target=\"_parent\"><img src=\"https://colab.research.google.com/assets/colab-badge.svg\" alt=\"Open In Colab\"/></a>"
      ]
    },
    {
      "cell_type": "code",
      "execution_count": 1,
      "metadata": {
        "id": "pVxK7qOaUXgB"
      },
      "outputs": [],
      "source": [
        "import nltk\n",
        "from nltk.tokenize import word_tokenize\n",
        "from nltk.corpus import indian\n",
        "from nltk.tag import DefaultTagger, UnigramTagger, BigramTagger, TrigramTagger"
      ]
    },
    {
      "cell_type": "code",
      "source": [
        "# Step 1: Inbuilt PoS Tagging\n",
        "def inbuilt_pos_tagging(sentence):\n",
        "    tokens = word_tokenize(sentence)\n",
        "    tagged = nltk.pos_tag(tokens)\n",
        "    return tagged"
      ],
      "metadata": {
        "id": "IZPwSf6ZUc8F"
      },
      "execution_count": 2,
      "outputs": []
    },
    {
      "cell_type": "code",
      "source": [
        "# Step 2: Regular Expression PoS Tagger\n",
        "def regex_pos_tagging(sentence):\n",
        "    patterns = [\n",
        "        (r'\\b(?:N\\w+)\\b', 'NOUN'),      # Nouns\n",
        "        (r'\\b(?:VB\\w+)\\b', 'VERB'),     # Verbs\n",
        "        (r'\\b(?:JJ\\w*)\\b', 'ADJ'),      # Adjectives\n",
        "        (r'\\b(?:RB\\w*)\\b', 'ADV'),      # Adverbs\n",
        "        (r'\\b(?:DT\\w*)\\b', 'DET')       # Determiners\n",
        "    ]\n",
        "    regex_tagger = nltk.RegexpTagger(patterns)\n",
        "    tokens = word_tokenize(sentence)\n",
        "    tagged = regex_tagger.tag(tokens)\n",
        "    return tagged"
      ],
      "metadata": {
        "id": "ce3DKauKUgzt"
      },
      "execution_count": 3,
      "outputs": []
    },
    {
      "cell_type": "code",
      "source": [
        "def dict_pos_tagging(sentence):\n",
        "    dictionary = {\n",
        "        'dog': 'NOUN',\n",
        "        'run': 'VERB',\n",
        "        'fast': 'ADV',\n",
        "        'beautiful': 'ADJ',\n",
        "        'the': 'DET',\n",
        "        'cat': 'NOUN',\n",
        "        'jump': 'VERB',\n",
        "        'quickly': 'ADV',\n",
        "        'brown': 'ADJ',\n",
        "        'lazy': 'ADJ',\n",
        "        'apple': 'NOUN',\n",
        "        'eat': 'VERB',\n",
        "        'deliciously': 'ADV',\n",
        "        'red': 'ADJ',\n",
        "        'car': 'NOUN',\n",
        "        'drive': 'VERB',\n",
        "        'carefully': 'ADV',\n",
        "        'big': 'ADJ',\n",
        "        'book': 'NOUN',\n",
        "        'read': 'VERB',\n",
        "        'slowly': 'ADV',\n",
        "        'interesting': 'ADJ',\n",
        "    }\n",
        "    tokens = word_tokenize(sentence)\n",
        "    tagged = [(token, dictionary.get(token.lower(), 'UNK')) for token in tokens]\n",
        "    return tagged"
      ],
      "metadata": {
        "id": "WO17j5aVUlgG"
      },
      "execution_count": 5,
      "outputs": []
    },
    {
      "cell_type": "code",
      "source": [
        "# Step 4: N-Gram Model based PoS Tagger\n",
        "def ngram_pos_tagging(sentence):\n",
        "    tagged_sents = indian.tagged_sents()\n",
        "    train_size = int(len(tagged_sents) * 0.9)\n",
        "    train_sents = tagged_sents[:train_size]\n",
        "    test_sents = tagged_sents[train_size:]\n",
        "\n",
        "    default_tagger = DefaultTagger('NN')  # Default tagger\n",
        "    unigram_tagger = UnigramTagger(train_sents, backoff=default_tagger)  # Unigram tagger\n",
        "    bigram_tagger = BigramTagger(train_sents, backoff=unigram_tagger)    # Bigram tagger\n",
        "    trigram_tagger = TrigramTagger(train_sents, backoff=bigram_tagger)    # Trigram tagger\n",
        "\n",
        "    tokens = word_tokenize(sentence)\n",
        "    tagged = trigram_tagger.tag(tokens)\n",
        "    return tagged"
      ],
      "metadata": {
        "id": "_8XNTyk2Um4f"
      },
      "execution_count": 6,
      "outputs": []
    },
    {
      "cell_type": "code",
      "source": [
        "# Step 5: Extend to Indian languages (Hindi and Marathi)\n",
        "def indian_languages_pos_tagging(sentence, language='hindi'):\n",
        "    if language.lower() == 'hindi':\n",
        "        # Use Hindi corpus for training n-gram model\n",
        "        tagged_sents = indian.tagged_sents('hindi.pos')\n",
        "    elif language.lower() == 'marathi':\n",
        "        # Use Marathi corpus for training n-gram model\n",
        "        tagged_sents = indian.tagged_sents('marathi.pos')\n",
        "    else:\n",
        "        return \"Language not supported.\"\n",
        "\n",
        "    train_size = int(len(tagged_sents) * 0.9)\n",
        "    train_sents = tagged_sents[:train_size]\n",
        "    test_sents = tagged_sents[train_size:]\n",
        "\n",
        "    default_tagger = DefaultTagger('NN')\n",
        "    unigram_tagger = UnigramTagger(train_sents, backoff=default_tagger)\n",
        "    bigram_tagger = BigramTagger(train_sents, backoff=unigram_tagger)\n",
        "    trigram_tagger = TrigramTagger(train_sents, backoff=bigram_tagger)\n",
        "\n",
        "    tokens = word_tokenize(sentence)\n",
        "    tagged = trigram_tagger.tag(tokens)\n",
        "    return tagged"
      ],
      "metadata": {
        "id": "qa37aqk3Umw5"
      },
      "execution_count": 7,
      "outputs": []
    },
    {
      "cell_type": "code",
      "source": [
        " nltk.download('punkt')"
      ],
      "metadata": {
        "colab": {
          "base_uri": "https://localhost:8080/"
        },
        "id": "pHolM7ShVn6H",
        "outputId": "7215fde8-44ec-4801-b4bd-b57e2a7346eb"
      },
      "execution_count": 9,
      "outputs": [
        {
          "output_type": "stream",
          "name": "stderr",
          "text": [
            "[nltk_data] Downloading package punkt to /root/nltk_data...\n",
            "[nltk_data]   Unzipping tokenizers/punkt.zip.\n"
          ]
        },
        {
          "output_type": "execute_result",
          "data": {
            "text/plain": [
              "True"
            ]
          },
          "metadata": {},
          "execution_count": 9
        }
      ]
    },
    {
      "cell_type": "code",
      "source": [
        " nltk.download('averaged_perceptron_tagger')"
      ],
      "metadata": {
        "colab": {
          "base_uri": "https://localhost:8080/"
        },
        "id": "rKbIzYc2VtrL",
        "outputId": "4a59b7a2-cc28-4f47-8352-c683df8013d8"
      },
      "execution_count": 11,
      "outputs": [
        {
          "output_type": "stream",
          "name": "stderr",
          "text": [
            "[nltk_data] Downloading package averaged_perceptron_tagger to\n",
            "[nltk_data]     /root/nltk_data...\n",
            "[nltk_data]   Unzipping taggers/averaged_perceptron_tagger.zip.\n"
          ]
        },
        {
          "output_type": "execute_result",
          "data": {
            "text/plain": [
              "True"
            ]
          },
          "metadata": {},
          "execution_count": 11
        }
      ]
    },
    {
      "cell_type": "code",
      "source": [
        "nltk.download('indian')"
      ],
      "metadata": {
        "colab": {
          "base_uri": "https://localhost:8080/"
        },
        "id": "Ze4igSWGVx26",
        "outputId": "68e52e84-6767-4e0e-a1a9-c448770aeb57"
      },
      "execution_count": 13,
      "outputs": [
        {
          "output_type": "stream",
          "name": "stderr",
          "text": [
            "[nltk_data] Downloading package indian to /root/nltk_data...\n",
            "[nltk_data]   Unzipping corpora/indian.zip.\n"
          ]
        },
        {
          "output_type": "execute_result",
          "data": {
            "text/plain": [
              "True"
            ]
          },
          "metadata": {},
          "execution_count": 13
        }
      ]
    },
    {
      "cell_type": "code",
      "source": [
        "english_sentence = \"The quick brown fox jumps over the lazy dog.\"\n",
        "print(\"Inbuilt PoS Tagging:\", inbuilt_pos_tagging(english_sentence))\n",
        "print(\"Regex PoS Tagging:\", regex_pos_tagging(english_sentence))\n",
        "print(\"Dictionary PoS Tagging:\", dict_pos_tagging(english_sentence))\n",
        "print(\"N-Gram PoS Tagging:\", ngram_pos_tagging(english_sentence))\n",
        "\n",
        "hindi_sentence = \"राम बहुत तेज़ भागता है।\"\n",
        "print(\"Hindi PoS Tagging:\", indian_languages_pos_tagging(hindi_sentence, language='hindi'))\n",
        "\n",
        "marathi_sentence = \"राम खूप जल्द धावतो.\"\n",
        "print(\"Marathi PoS Tagging:\", indian_languages_pos_tagging(marathi_sentence, language='marathi'))"
      ],
      "metadata": {
        "colab": {
          "base_uri": "https://localhost:8080/"
        },
        "id": "kpoD1L87UmmB",
        "outputId": "dc8e1e55-cb7e-460a-897b-c472b1538ffb"
      },
      "execution_count": 14,
      "outputs": [
        {
          "output_type": "stream",
          "name": "stdout",
          "text": [
            "Inbuilt PoS Tagging: [('The', 'DT'), ('quick', 'JJ'), ('brown', 'NN'), ('fox', 'NN'), ('jumps', 'VBZ'), ('over', 'IN'), ('the', 'DT'), ('lazy', 'JJ'), ('dog', 'NN'), ('.', '.')]\n",
            "Regex PoS Tagging: [('The', None), ('quick', None), ('brown', None), ('fox', None), ('jumps', None), ('over', None), ('the', None), ('lazy', None), ('dog', None), ('.', None)]\n",
            "Dictionary PoS Tagging: [('The', 'DET'), ('quick', 'UNK'), ('brown', 'ADJ'), ('fox', 'UNK'), ('jumps', 'UNK'), ('over', 'UNK'), ('the', 'DET'), ('lazy', 'ADJ'), ('dog', 'NOUN'), ('.', 'UNK')]\n",
            "N-Gram PoS Tagging: [('The', 'NN'), ('quick', 'NN'), ('brown', 'NN'), ('fox', 'NN'), ('jumps', 'NN'), ('over', 'NN'), ('the', 'NN'), ('lazy', 'NN'), ('dog', 'NN'), ('.', 'SYM')]\n",
            "Hindi PoS Tagging: [('राम', 'NN'), ('बहुत', 'INTF'), ('तेज़', 'NN'), ('भागता', 'NN'), ('है।', 'NN')]\n",
            "Marathi PoS Tagging: [('राम', 'NN'), ('खूप', 'QF'), ('जल्द', 'NN'), ('धावतो', 'NN'), ('.', 'SYM')]\n"
          ]
        }
      ]
    }
  ]
}