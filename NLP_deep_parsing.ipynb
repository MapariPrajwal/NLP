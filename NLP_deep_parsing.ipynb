{
  "nbformat": 4,
  "nbformat_minor": 0,
  "metadata": {
    "colab": {
      "provenance": [],
      "authorship_tag": "ABX9TyODeGQ6ylF0hsF3sbEHgcuk",
      "include_colab_link": true
    },
    "kernelspec": {
      "name": "python3",
      "display_name": "Python 3"
    },
    "language_info": {
      "name": "python"
    }
  },
  "cells": [
    {
      "cell_type": "markdown",
      "metadata": {
        "id": "view-in-github",
        "colab_type": "text"
      },
      "source": [
        "<a href=\"https://colab.research.google.com/github/MapariPrajwal/NLP/blob/main/NLP_deep_parsing.ipynb\" target=\"_parent\"><img src=\"https://colab.research.google.com/assets/colab-badge.svg\" alt=\"Open In Colab\"/></a>"
      ]
    },
    {
      "cell_type": "code",
      "execution_count": 1,
      "metadata": {
        "id": "sRBHZHm90K1r"
      },
      "outputs": [],
      "source": [
        "sentences = [\n",
        "    \"The cat ate the mouse.\",\n",
        "    \"John saw the man with the telescope.\",\n",
        "    \"She gave him a book for his birthday.\",\n",
        "    \"The quick brown fox jumps over the lazy dog.\",\n",
        "    \"I love eating ice cream on a hot day.\"\n",
        "]\n"
      ]
    },
    {
      "cell_type": "code",
      "source": [],
      "metadata": {
        "id": "iULzOIxt0vd2"
      },
      "execution_count": null,
      "outputs": []
    },
    {
      "cell_type": "code",
      "source": [
        "import nltk\n",
        "from nltk.tree import Tree\n",
        "\n",
        "cfg = nltk.CFG.fromstring(\"\"\"\n",
        "    S -> NP VP\n",
        "    NP -> Det N | Det N PP | 'I'\n",
        "    VP -> V NP | VP PP\n",
        "    PP -> P NP\n",
        "    Det -> 'the' | 'a'\n",
        "    N -> 'cat' | 'mouse' | 'man' | 'telescope' | 'book' | 'fox' | 'dog' | 'day' | 'cream'\n",
        "    V -> 'ate' | 'saw' | 'gave' | 'jumps' | 'love' | 'eating'\n",
        "    P -> 'with' | 'for' | 'on'\n",
        "\"\"\")\n",
        "\n",
        "def cky_parse(sentence, grammar):\n",
        "    words = sentence.split()\n",
        "    n = len(words)\n",
        "    table = [[set() for _ in range(n+1)] for _ in range(n+1)]\n",
        "    for i in range(1, n+1):\n",
        "        for production in grammar.productions(rhs=words[i-1]):\n",
        "            table[i-1][i].add(production.lhs())\n",
        "    for j in range(2, n+1):\n",
        "        for i in range(j-2, -1, -1):\n",
        "            for k in range(i+1, j):\n",
        "                for production in grammar.productions():\n",
        "                    if len(production.rhs()) == 2:\n",
        "                        B, C = production.rhs()\n",
        "                        if B in table[i][k] and C in table[k][j]:\n",
        "                            table[i][j].add(production.lhs())\n",
        "    return table[0][n]\n",
        "\n",
        "for sentence in sentences:\n",
        "    parse_tree = cky_parse(sentence, cfg)\n",
        "    print(\"Sentence:\", sentence)\n",
        "    print(\"Parse Tree:\")\n",
        "    tree = Tree.fromstring('({})'.format(' '.join(map(str, parse_tree))))"
      ],
      "metadata": {
        "colab": {
          "base_uri": "https://localhost:8080/"
        },
        "id": "SFwr8XhU0Tkf",
        "outputId": "b9255cce-77f4-41d2-d24a-fda063eab678"
      },
      "execution_count": 5,
      "outputs": [
        {
          "output_type": "stream",
          "name": "stdout",
          "text": [
            "Sentence: The cat ate the mouse.\n",
            "Parse Tree:\n",
            "Sentence: John saw the man with the telescope.\n",
            "Parse Tree:\n",
            "Sentence: She gave him a book for his birthday.\n",
            "Parse Tree:\n",
            "Sentence: The quick brown fox jumps over the lazy dog.\n",
            "Parse Tree:\n",
            "Sentence: I love eating ice cream on a hot day.\n",
            "Parse Tree:\n"
          ]
        }
      ]
    },
    {
      "cell_type": "code",
      "source": [],
      "metadata": {
        "id": "3NSJEXh01Cgv"
      },
      "execution_count": null,
      "outputs": []
    }
  ]
}