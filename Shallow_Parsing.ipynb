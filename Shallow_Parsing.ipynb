{
  "nbformat": 4,
  "nbformat_minor": 0,
  "metadata": {
    "colab": {
      "provenance": [],
      "gpuType": "T4",
      "authorship_tag": "ABX9TyNYtu7g09+W6/5XZWgi5zrk",
      "include_colab_link": true
    },
    "kernelspec": {
      "name": "python3",
      "display_name": "Python 3"
    },
    "language_info": {
      "name": "python"
    },
    "accelerator": "GPU"
  },
  "cells": [
    {
      "cell_type": "markdown",
      "metadata": {
        "id": "view-in-github",
        "colab_type": "text"
      },
      "source": [
        "<a href=\"https://colab.research.google.com/github/MapariPrajwal/NLP/blob/main/Shallow_Parsing.ipynb\" target=\"_parent\"><img src=\"https://colab.research.google.com/assets/colab-badge.svg\" alt=\"Open In Colab\"/></a>"
      ]
    },
    {
      "cell_type": "code",
      "execution_count": 1,
      "metadata": {
        "id": "90_wpGN83ZXd"
      },
      "outputs": [],
      "source": [
        "import nltk\n",
        "custom_grammar = r\"\"\"\n",
        "    NP: {<DT>?<JJ>*<NN>}  # Noun Phrase\n",
        "    ADJP: {<RB><JJ>}       # Adjective Phrase\n",
        "    ADVP: {<RB>}           # Adverb Phrase\n",
        "    VP: {<VB.*><NP|PP>*}   # Verb Phrase\n",
        "\"\"\"\n",
        "custom_chunk_parser = nltk.RegexpParser(custom_grammar)\n"
      ]
    },
    {
      "cell_type": "code",
      "source": [
        "nltk.download('punkt')\n",
        "nltk.download('averaged_perceptron_tagger')\n",
        "nltk.download('maxent_ne_chunker')\n",
        "nltk.download('words')"
      ],
      "metadata": {
        "colab": {
          "base_uri": "https://localhost:8080/"
        },
        "id": "2W5vmsaN2vG0",
        "outputId": "00a79782-2ddb-4ea7-ce87-7eee10331f28"
      },
      "execution_count": 10,
      "outputs": [
        {
          "output_type": "stream",
          "name": "stderr",
          "text": [
            "[nltk_data] Downloading package punkt to /root/nltk_data...\n",
            "[nltk_data]   Package punkt is already up-to-date!\n",
            "[nltk_data] Downloading package averaged_perceptron_tagger to\n",
            "[nltk_data]     /root/nltk_data...\n",
            "[nltk_data]   Package averaged_perceptron_tagger is already up-to-\n",
            "[nltk_data]       date!\n",
            "[nltk_data] Downloading package maxent_ne_chunker to\n",
            "[nltk_data]     /root/nltk_data...\n",
            "[nltk_data]   Package maxent_ne_chunker is already up-to-date!\n",
            "[nltk_data] Downloading package words to /root/nltk_data...\n",
            "[nltk_data]   Unzipping corpora/words.zip.\n"
          ]
        },
        {
          "output_type": "execute_result",
          "data": {
            "text/plain": [
              "True"
            ]
          },
          "metadata": {},
          "execution_count": 10
        }
      ]
    },
    {
      "cell_type": "code",
      "source": [
        "sentence = \"The quick brown fox jumps over the lazy dog.\"\n",
        "tokens = nltk.word_tokenize(sentence)\n",
        "pos_tags = nltk.pos_tag(tokens)\n",
        "custom_parsed_tree = custom_chunk_parser.parse(pos_tags)\n",
        "print(\"Customized Grammar Chunking:\")\n",
        "print(custom_parsed_tree)"
      ],
      "metadata": {
        "id": "aCJ2Nz7M4MKq",
        "colab": {
          "base_uri": "https://localhost:8080/"
        },
        "outputId": "2e3a700b-cd85-431f-b386-313f1b5ea4c6"
      },
      "execution_count": 6,
      "outputs": [
        {
          "output_type": "stream",
          "name": "stdout",
          "text": [
            "Customized Grammar Chunking:\n",
            "(S\n",
            "  (NP The/DT quick/JJ brown/NN)\n",
            "  (NP fox/NN)\n",
            "  (VP jumps/VBZ)\n",
            "  over/IN\n",
            "  (NP the/DT lazy/JJ dog/NN)\n",
            "  ./.)\n"
          ]
        }
      ]
    },
    {
      "cell_type": "code",
      "source": [
        "inbuilt_parsed_tree = nltk.ne_chunk(pos_tags)\n",
        "print(\"\\nInbuilt Chunking:\")\n",
        "print(inbuilt_parsed_tree)"
      ],
      "metadata": {
        "id": "kY3D31le4MCo",
        "colab": {
          "base_uri": "https://localhost:8080/"
        },
        "outputId": "7f25c929-3726-44b5-cc81-ed0faeb658fe"
      },
      "execution_count": 11,
      "outputs": [
        {
          "output_type": "stream",
          "name": "stdout",
          "text": [
            "\n",
            "Inbuilt Chunking:\n",
            "(S\n",
            "  The/DT\n",
            "  quick/JJ\n",
            "  brown/NN\n",
            "  fox/NN\n",
            "  jumps/VBZ\n",
            "  over/IN\n",
            "  the/DT\n",
            "  lazy/JJ\n",
            "  dog/NN\n",
            "  ./.)\n"
          ]
        }
      ]
    },
    {
      "cell_type": "code",
      "source": [
        "def extract_chunks(tree, chunk_label):\n",
        "    chunks = []\n",
        "    for subtree in tree.subtrees(filter=lambda t: t.label() == chunk_label):\n",
        "        chunks.append(\" \".join([word for word, tag in subtree.leaves()]))\n",
        "    return chunks\n",
        "custom_np_chunks = extract_chunks(custom_parsed_tree, \"NP\")\n",
        "custom_adjp_chunks = extract_chunks(custom_parsed_tree, \"ADJP\")\n",
        "custom_advp_chunks = extract_chunks(custom_parsed_tree, \"ADVP\")\n",
        "custom_vp_chunks = extract_chunks(custom_parsed_tree, \"VP\")\n",
        "inbuilt_np_chunks = extract_chunks(inbuilt_parsed_tree, \"NP\")\n",
        "inbuilt_vp_chunks = extract_chunks(inbuilt_parsed_tree, \"VP\")\n",
        "\n",
        "print(\"\\nCustomized NP Chunks:\", custom_np_chunks)\n",
        "print(\"Inbuilt NP Chunks:\", inbuilt_np_chunks)\n",
        "print(\"\\nCustomized ADJP Chunks:\", custom_adjp_chunks)\n",
        "print(\"\\nCustomized ADVP Chunks:\", custom_advp_chunks)\n",
        "print(\"\\nCustomized VP Chunks:\", custom_vp_chunks)\n",
        "print(\"Inbuilt VP Chunks:\", inbuilt_vp_chunks)"
      ],
      "metadata": {
        "id": "xM4_2jGQ4L3M",
        "colab": {
          "base_uri": "https://localhost:8080/"
        },
        "outputId": "38b89359-bb0d-4ccf-f9ea-dbe1ffd86a94"
      },
      "execution_count": 12,
      "outputs": [
        {
          "output_type": "stream",
          "name": "stdout",
          "text": [
            "\n",
            "Customized NP Chunks: ['The quick brown', 'fox', 'the lazy dog']\n",
            "Inbuilt NP Chunks: []\n",
            "\n",
            "Customized ADJP Chunks: []\n",
            "\n",
            "Customized ADVP Chunks: []\n",
            "\n",
            "Customized VP Chunks: ['jumps']\n",
            "Inbuilt VP Chunks: []\n"
          ]
        }
      ]
    }
  ]
}