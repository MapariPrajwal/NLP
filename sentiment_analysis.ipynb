{
  "nbformat": 4,
  "nbformat_minor": 0,
  "metadata": {
    "colab": {
      "provenance": [],
      "authorship_tag": "ABX9TyOYLlAPHrtEJ1g8e1ssNMWa",
      "include_colab_link": true
    },
    "kernelspec": {
      "name": "python3",
      "display_name": "Python 3"
    },
    "language_info": {
      "name": "python"
    }
  },
  "cells": [
    {
      "cell_type": "markdown",
      "metadata": {
        "id": "view-in-github",
        "colab_type": "text"
      },
      "source": [
        "<a href=\"https://colab.research.google.com/github/MapariPrajwal/NLP/blob/main/sentiment_analysis.ipynb\" target=\"_parent\"><img src=\"https://colab.research.google.com/assets/colab-badge.svg\" alt=\"Open In Colab\"/></a>"
      ]
    },
    {
      "cell_type": "code",
      "execution_count": 1,
      "metadata": {
        "id": "rwJYqDeGxpmp"
      },
      "outputs": [],
      "source": [
        "sentences = [\n",
        "    \"I love sunny days at the beach.\",\n",
        "    \"The food at that restaurant was amazing.\",\n",
        "    \"The movie was terrible, I regret watching it.\",\n",
        "    \"I feel sad when it rains.\",\n",
        "    \"The concert last night was fantastic.\"\n",
        "]\n"
      ]
    },
    {
      "cell_type": "code",
      "source": [
        "!pip install nltk\n",
        "import nltk\n",
        "nltk.download('punkt')"
      ],
      "metadata": {
        "colab": {
          "base_uri": "https://localhost:8080/"
        },
        "id": "mcv3K2inyLEc",
        "outputId": "4e237317-325e-455c-91bb-9bcd00fa2e59"
      },
      "execution_count": 6,
      "outputs": [
        {
          "output_type": "stream",
          "name": "stdout",
          "text": [
            "Requirement already satisfied: nltk in /usr/local/lib/python3.10/dist-packages (3.8.1)\n",
            "Requirement already satisfied: click in /usr/local/lib/python3.10/dist-packages (from nltk) (8.1.7)\n",
            "Requirement already satisfied: joblib in /usr/local/lib/python3.10/dist-packages (from nltk) (1.3.2)\n",
            "Requirement already satisfied: regex>=2021.8.3 in /usr/local/lib/python3.10/dist-packages (from nltk) (2023.12.25)\n",
            "Requirement already satisfied: tqdm in /usr/local/lib/python3.10/dist-packages (from nltk) (4.66.2)\n"
          ]
        },
        {
          "output_type": "stream",
          "name": "stderr",
          "text": [
            "[nltk_data] Downloading package punkt to /root/nltk_data...\n",
            "[nltk_data]   Unzipping tokenizers/punkt.zip.\n"
          ]
        },
        {
          "output_type": "execute_result",
          "data": {
            "text/plain": [
              "True"
            ]
          },
          "metadata": {},
          "execution_count": 6
        }
      ]
    },
    {
      "cell_type": "code",
      "source": [
        "!pip install textblob\n",
        "from textblob import TextBlob\n",
        "\n",
        "def single_word_sentiment(sentences):\n",
        "    sentiment_scores = {}\n",
        "    for sentence in sentences:\n",
        "        blob = TextBlob(sentence)\n",
        "        for word in blob.words:\n",
        "            sentiment_scores[word] = blob.sentiment.polarity\n",
        "    return sentiment_scores\n",
        "\n",
        "def multiword_sentiment(sentences):\n",
        "    sentiment_scores = {}\n",
        "    for sentence in sentences:\n",
        "        blob = TextBlob(sentence)\n",
        "        for bigram in blob.ngrams(2):\n",
        "            sentiment_scores[' '.join(bigram)] = blob.sentiment.polarity\n",
        "    return sentiment_scores\n",
        "\n",
        "# Investigate the error\n",
        "try:\n",
        "    single_word_scores = single_word_sentiment(sentences)\n",
        "    multiword_scores = multiword_sentiment(sentences)\n",
        "except Exception as e:\n",
        "    print(f\"Error: {e}\")\n",
        "\n",
        "# Fix the error\n",
        "if \"unhashable type: 'WordList'\" in str(e):\n",
        "    # Convert the bigram to a string before using it as a dictionary key\n",
        "    def multiword_sentiment(sentences):\n",
        "        sentiment_scores = {}\n",
        "        for sentence in sentences:\n",
        "            blob = TextBlob(sentence)\n",
        "            for bigram in blob.ngrams(2):\n",
        "                sentiment_scores[' '.join(bigram)] = blob.sentiment.polarity\n",
        "        return sentimsent_scores\n",
        "    multiword_scores = multiword_sentiment(sentences)\n",
        "print(\"Single Word Sentiment Scores:\", single_word_scores)\n",
        "print(\"Multiword Sentiment Scores:\", multiword_scores)"
      ],
      "metadata": {
        "colab": {
          "base_uri": "https://localhost:8080/",
          "height": 335
        },
        "id": "v_OHnEZzx9oy",
        "outputId": "4e0e19a9-e697-4e17-acc5-39e7cbfdb9a0"
      },
      "execution_count": 8,
      "outputs": [
        {
          "output_type": "stream",
          "name": "stdout",
          "text": [
            "Requirement already satisfied: textblob in /usr/local/lib/python3.10/dist-packages (0.17.1)\n",
            "Requirement already satisfied: nltk>=3.1 in /usr/local/lib/python3.10/dist-packages (from textblob) (3.8.1)\n",
            "Requirement already satisfied: click in /usr/local/lib/python3.10/dist-packages (from nltk>=3.1->textblob) (8.1.7)\n",
            "Requirement already satisfied: joblib in /usr/local/lib/python3.10/dist-packages (from nltk>=3.1->textblob) (1.3.2)\n",
            "Requirement already satisfied: regex>=2021.8.3 in /usr/local/lib/python3.10/dist-packages (from nltk>=3.1->textblob) (2023.12.25)\n",
            "Requirement already satisfied: tqdm in /usr/local/lib/python3.10/dist-packages (from nltk>=3.1->textblob) (4.66.2)\n"
          ]
        },
        {
          "output_type": "error",
          "ename": "NameError",
          "evalue": "name 'e' is not defined",
          "traceback": [
            "\u001b[0;31m---------------------------------------------------------------------------\u001b[0m",
            "\u001b[0;31mNameError\u001b[0m                                 Traceback (most recent call last)",
            "\u001b[0;32m<ipython-input-8-78a1872b0427>\u001b[0m in \u001b[0;36m<cell line: 31>\u001b[0;34m()\u001b[0m\n\u001b[1;32m     29\u001b[0m \u001b[0;34m\u001b[0m\u001b[0m\n\u001b[1;32m     30\u001b[0m \u001b[0;31m# Fix the error\u001b[0m\u001b[0;34m\u001b[0m\u001b[0;34m\u001b[0m\u001b[0m\n\u001b[0;32m---> 31\u001b[0;31m \u001b[0;32mif\u001b[0m \u001b[0;34m\"unhashable type: 'WordList'\"\u001b[0m \u001b[0;32min\u001b[0m \u001b[0mstr\u001b[0m\u001b[0;34m(\u001b[0m\u001b[0me\u001b[0m\u001b[0;34m)\u001b[0m\u001b[0;34m:\u001b[0m\u001b[0;34m\u001b[0m\u001b[0;34m\u001b[0m\u001b[0m\n\u001b[0m\u001b[1;32m     32\u001b[0m     \u001b[0;31m# Convert the bigram to a string before using it as a dictionary key\u001b[0m\u001b[0;34m\u001b[0m\u001b[0;34m\u001b[0m\u001b[0m\n\u001b[1;32m     33\u001b[0m     \u001b[0;32mdef\u001b[0m \u001b[0mmultiword_sentiment\u001b[0m\u001b[0;34m(\u001b[0m\u001b[0msentences\u001b[0m\u001b[0;34m)\u001b[0m\u001b[0;34m:\u001b[0m\u001b[0;34m\u001b[0m\u001b[0;34m\u001b[0m\u001b[0m\n",
            "\u001b[0;31mNameError\u001b[0m: name 'e' is not defined"
          ]
        }
      ]
    },
    {
      "cell_type": "code",
      "source": [
        "def negative_marking(sentence):\n",
        "    words = sentence.split()\n",
        "    negation_terms = {\"not\", \"no\", \"never\", \"none\"}\n",
        "    negated = False\n",
        "    modified_sentence = []\n",
        "    for word in words:\n",
        "        if word.lower() in negation_terms:\n",
        "            negated = True\n",
        "        if negated and word.isalpha():\n",
        "            word = \"not_\" + word\n",
        "            negated = False\n",
        "        modified_sentence.append(word)\n",
        "    return \" \".join(modified_sentence)\n",
        "\n",
        "negated_sentences = [negative_marking(sentence) for sentence in sentences]\n",
        "print(\"Negated Sentences:\", negated_sentences)\n",
        "\n",
        "negated_single_word_scores = single_word_sentiment(negated_sentences)\n",
        "negated_multiword_scores = multiword_sentiment(negated_sentences)\n",
        "\n",
        "print(\"Single Word Sentiment Scores with Negative Marking:\", negated_single_word_scores)\n",
        "print(\"Multiword Sentiment Scores with Negative Marking:\", negated_multiword_scores)\n"
      ],
      "metadata": {
        "id": "18bMNIl_x_0P"
      },
      "execution_count": null,
      "outputs": []
    },
    {
      "cell_type": "code",
      "source": [],
      "metadata": {
        "id": "u_VIX0jZyBs_"
      },
      "execution_count": null,
      "outputs": []
    }
  ]
}