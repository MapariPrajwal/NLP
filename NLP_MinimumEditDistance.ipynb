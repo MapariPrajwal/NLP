{
  "nbformat": 4,
  "nbformat_minor": 0,
  "metadata": {
    "colab": {
      "provenance": [],
      "authorship_tag": "ABX9TyOdITVwncgxQoFu2pTsP6NI",
      "include_colab_link": true
    },
    "kernelspec": {
      "name": "python3",
      "display_name": "Python 3"
    },
    "language_info": {
      "name": "python"
    }
  },
  "cells": [
    {
      "cell_type": "markdown",
      "metadata": {
        "id": "view-in-github",
        "colab_type": "text"
      },
      "source": [
        "<a href=\"https://colab.research.google.com/github/MapariPrajwal/NLP/blob/main/NLP_MinimumEditDistance.ipynb\" target=\"_parent\"><img src=\"https://colab.research.google.com/assets/colab-badge.svg\" alt=\"Open In Colab\"/></a>"
      ]
    },
    {
      "cell_type": "code",
      "execution_count": null,
      "metadata": {
        "id": "-Igr9ZCIVLuR"
      },
      "outputs": [],
      "source": [
        "import numpy as np\n",
        "\n",
        "english_lexicon = set([\"cat\", \"dog\", \"bird\", \"fish\", \"computer\"])\n",
        "spanish_lexicon = set([\"gato\", \"perro\", \"pájaro\", \"pez\", \"computadora\"])"
      ]
    },
    {
      "cell_type": "code",
      "source": [
        "def min_edit_distance(word1, word2):\n",
        "    m = len(word1)\n",
        "    n = len(word2)\n",
        "\n",
        "    dp = np.zeros((m + 1, n + 1))\n",
        "\n",
        "    for i in range(m + 1):\n",
        "        dp[i][0] = i\n",
        "\n",
        "    for j in range(n + 1):\n",
        "        dp[0][j] = j\n",
        "\n",
        "    for i in range(1, m + 1):\n",
        "        for j in range(1, n + 1):\n",
        "            if word1[i - 1] == word2[j - 1]:\n",
        "                dp[i][j] = dp[i - 1][j - 1]\n",
        "            else:\n",
        "                dp[i][j] = 1 + min(dp[i - 1][j],        # Deletion\n",
        "                                   dp[i][j - 1],        # Insertion\n",
        "                                   dp[i - 1][j - 1])    # Substitution\n",
        "\n",
        "    return dp[m][n]\n"
      ],
      "metadata": {
        "id": "Qgpd-_0nVS0E"
      },
      "execution_count": null,
      "outputs": []
    },
    {
      "cell_type": "code",
      "source": [
        "def spelling_checker(word, lexicon):\n",
        "    min_distance = float('inf')\n",
        "    closest_word = None\n",
        "\n",
        "    for candidate in lexicon:\n",
        "        distance = min_edit_distance(word, candidate)\n",
        "        if distance < min_distance:\n",
        "            min_distance = distance\n",
        "            closest_word = candidate\n",
        "\n",
        "    return closest_word"
      ],
      "metadata": {
        "id": "ZlQKEFuJVS9U"
      },
      "execution_count": null,
      "outputs": []
    },
    {
      "cell_type": "code",
      "source": [
        "#spelling checker\n",
        "def demonstrate_spell_checker(word, language):\n",
        "    if language == \"english\":\n",
        "        lexicon = english_lexicon\n",
        "    elif language == \"spanish\":\n",
        "        lexicon = spanish_lexicon\n",
        "    else:\n",
        "        print(\"Invalid language selection.\")\n",
        "        return\n",
        "\n",
        "    suggestion = spelling_checker(word, lexicon)\n",
        "    print(f\"Suggested spelling for '{word}' in {language}: {suggestion}\")"
      ],
      "metadata": {
        "id": "BU2R4COsVTIb"
      },
      "execution_count": null,
      "outputs": []
    },
    {
      "cell_type": "code",
      "source": [
        "demonstrate_spell_checker(\"dgo\", \"english\")\n",
        "demonstrate_spell_checker(\"pájrao\", \"spanish\")"
      ],
      "metadata": {
        "colab": {
          "base_uri": "https://localhost:8080/"
        },
        "id": "P-HHNCo9VTL_",
        "outputId": "2bb6f2b0-f1ac-426a-bcf7-e7d3c11c5532"
      },
      "execution_count": null,
      "outputs": [
        {
          "output_type": "stream",
          "name": "stdout",
          "text": [
            "Suggested spelling for 'dgo' in english: dog\n",
            "Suggested spelling for 'pájrao' in spanish: pájaro\n"
          ]
        }
      ]
    },
    {
      "cell_type": "code",
      "source": [],
      "metadata": {
        "id": "xYMIshTDWCC-"
      },
      "execution_count": null,
      "outputs": []
    }
  ]
}